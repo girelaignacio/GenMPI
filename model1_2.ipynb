{
 "cells": [
  {
   "cell_type": "code",
   "execution_count": 1,
   "id": "7e470c00",
   "metadata": {},
   "outputs": [],
   "source": [
    "import pandas as pd \n",
    "import numpy as np "
   ]
  },
  {
   "cell_type": "code",
   "execution_count": 2,
   "id": "7495a580",
   "metadata": {},
   "outputs": [],
   "source": [
    "country = 'mwi_mics19-20'"
   ]
  },
  {
   "cell_type": "code",
   "execution_count": 3,
   "id": "e8327e13",
   "metadata": {},
   "outputs": [],
   "source": [
    "data = pd.read_csv('./'+ country)"
   ]
  },
  {
   "cell_type": "code",
   "execution_count": 4,
   "id": "88bc5a10",
   "metadata": {},
   "outputs": [
    {
     "data": {
      "text/html": [
       "<div>\n",
       "<style scoped>\n",
       "    .dataframe tbody tr th:only-of-type {\n",
       "        vertical-align: middle;\n",
       "    }\n",
       "\n",
       "    .dataframe tbody tr th {\n",
       "        vertical-align: top;\n",
       "    }\n",
       "\n",
       "    .dataframe thead th {\n",
       "        text-align: right;\n",
       "    }\n",
       "</style>\n",
       "<table border=\"1\" class=\"dataframe\">\n",
       "  <thead>\n",
       "    <tr style=\"text-align: right;\">\n",
       "      <th></th>\n",
       "      <th>hh_id</th>\n",
       "      <th>psu</th>\n",
       "      <th>strata</th>\n",
       "      <th>weight</th>\n",
       "      <th>d_cm</th>\n",
       "      <th>d_nutr</th>\n",
       "      <th>d_satt</th>\n",
       "      <th>d_educ</th>\n",
       "      <th>d_elct</th>\n",
       "      <th>d_sani</th>\n",
       "      <th>...</th>\n",
       "      <th>cookingfuel</th>\n",
       "      <th>television</th>\n",
       "      <th>radio</th>\n",
       "      <th>telephone</th>\n",
       "      <th>refrigerator</th>\n",
       "      <th>car</th>\n",
       "      <th>bicycle</th>\n",
       "      <th>motorbike</th>\n",
       "      <th>animal_cart</th>\n",
       "      <th>computer</th>\n",
       "    </tr>\n",
       "  </thead>\n",
       "  <tbody>\n",
       "    <tr>\n",
       "      <th>0</th>\n",
       "      <td>101</td>\n",
       "      <td>1</td>\n",
       "      <td>Chitipa Rural</td>\n",
       "      <td>0.432607</td>\n",
       "      <td>0.0</td>\n",
       "      <td>NaN</td>\n",
       "      <td>0.0</td>\n",
       "      <td>0.0</td>\n",
       "      <td>1.0</td>\n",
       "      <td>0.0</td>\n",
       "      <td>...</td>\n",
       "      <td>WOOD</td>\n",
       "      <td>No</td>\n",
       "      <td>No</td>\n",
       "      <td>No</td>\n",
       "      <td>No</td>\n",
       "      <td>No</td>\n",
       "      <td>No</td>\n",
       "      <td>No</td>\n",
       "      <td>No</td>\n",
       "      <td>No</td>\n",
       "    </tr>\n",
       "    <tr>\n",
       "      <th>1</th>\n",
       "      <td>102</td>\n",
       "      <td>1</td>\n",
       "      <td>Chitipa Rural</td>\n",
       "      <td>0.432607</td>\n",
       "      <td>0.0</td>\n",
       "      <td>1.0</td>\n",
       "      <td>0.0</td>\n",
       "      <td>1.0</td>\n",
       "      <td>1.0</td>\n",
       "      <td>1.0</td>\n",
       "      <td>...</td>\n",
       "      <td>WOOD</td>\n",
       "      <td>No</td>\n",
       "      <td>No</td>\n",
       "      <td>Yes</td>\n",
       "      <td>No</td>\n",
       "      <td>No</td>\n",
       "      <td>Yes</td>\n",
       "      <td>No</td>\n",
       "      <td>No</td>\n",
       "      <td>No</td>\n",
       "    </tr>\n",
       "    <tr>\n",
       "      <th>2</th>\n",
       "      <td>103</td>\n",
       "      <td>1</td>\n",
       "      <td>Chitipa Rural</td>\n",
       "      <td>0.432607</td>\n",
       "      <td>0.0</td>\n",
       "      <td>1.0</td>\n",
       "      <td>0.0</td>\n",
       "      <td>0.0</td>\n",
       "      <td>1.0</td>\n",
       "      <td>1.0</td>\n",
       "      <td>...</td>\n",
       "      <td>WOOD</td>\n",
       "      <td>No</td>\n",
       "      <td>No</td>\n",
       "      <td>Yes</td>\n",
       "      <td>No</td>\n",
       "      <td>No</td>\n",
       "      <td>No</td>\n",
       "      <td>No</td>\n",
       "      <td>No</td>\n",
       "      <td>No</td>\n",
       "    </tr>\n",
       "    <tr>\n",
       "      <th>3</th>\n",
       "      <td>104</td>\n",
       "      <td>1</td>\n",
       "      <td>Chitipa Rural</td>\n",
       "      <td>0.432607</td>\n",
       "      <td>0.0</td>\n",
       "      <td>0.0</td>\n",
       "      <td>0.0</td>\n",
       "      <td>0.0</td>\n",
       "      <td>1.0</td>\n",
       "      <td>0.0</td>\n",
       "      <td>...</td>\n",
       "      <td>WOOD</td>\n",
       "      <td>No</td>\n",
       "      <td>Yes</td>\n",
       "      <td>Yes</td>\n",
       "      <td>No</td>\n",
       "      <td>No</td>\n",
       "      <td>Yes</td>\n",
       "      <td>No</td>\n",
       "      <td>No</td>\n",
       "      <td>No</td>\n",
       "    </tr>\n",
       "    <tr>\n",
       "      <th>4</th>\n",
       "      <td>106</td>\n",
       "      <td>1</td>\n",
       "      <td>Chitipa Rural</td>\n",
       "      <td>0.432607</td>\n",
       "      <td>0.0</td>\n",
       "      <td>0.0</td>\n",
       "      <td>0.0</td>\n",
       "      <td>1.0</td>\n",
       "      <td>1.0</td>\n",
       "      <td>1.0</td>\n",
       "      <td>...</td>\n",
       "      <td>WOOD</td>\n",
       "      <td>No</td>\n",
       "      <td>No</td>\n",
       "      <td>No</td>\n",
       "      <td>No</td>\n",
       "      <td>No</td>\n",
       "      <td>No</td>\n",
       "      <td>No</td>\n",
       "      <td>No</td>\n",
       "      <td>No</td>\n",
       "    </tr>\n",
       "    <tr>\n",
       "      <th>...</th>\n",
       "      <td>...</td>\n",
       "      <td>...</td>\n",
       "      <td>...</td>\n",
       "      <td>...</td>\n",
       "      <td>...</td>\n",
       "      <td>...</td>\n",
       "      <td>...</td>\n",
       "      <td>...</td>\n",
       "      <td>...</td>\n",
       "      <td>...</td>\n",
       "      <td>...</td>\n",
       "      <td>...</td>\n",
       "      <td>...</td>\n",
       "      <td>...</td>\n",
       "      <td>...</td>\n",
       "      <td>...</td>\n",
       "      <td>...</td>\n",
       "      <td>...</td>\n",
       "      <td>...</td>\n",
       "      <td>...</td>\n",
       "      <td>...</td>\n",
       "    </tr>\n",
       "    <tr>\n",
       "      <th>25414</th>\n",
       "      <td>111220</td>\n",
       "      <td>1112</td>\n",
       "      <td>Blantyre City</td>\n",
       "      <td>1.204571</td>\n",
       "      <td>0.0</td>\n",
       "      <td>0.0</td>\n",
       "      <td>0.0</td>\n",
       "      <td>1.0</td>\n",
       "      <td>1.0</td>\n",
       "      <td>1.0</td>\n",
       "      <td>...</td>\n",
       "      <td>WOOD</td>\n",
       "      <td>No</td>\n",
       "      <td>Yes</td>\n",
       "      <td>No</td>\n",
       "      <td>No</td>\n",
       "      <td>No</td>\n",
       "      <td>No</td>\n",
       "      <td>No</td>\n",
       "      <td>No</td>\n",
       "      <td>No</td>\n",
       "    </tr>\n",
       "    <tr>\n",
       "      <th>25415</th>\n",
       "      <td>111221</td>\n",
       "      <td>1112</td>\n",
       "      <td>Blantyre City</td>\n",
       "      <td>1.204571</td>\n",
       "      <td>0.0</td>\n",
       "      <td>1.0</td>\n",
       "      <td>0.0</td>\n",
       "      <td>0.0</td>\n",
       "      <td>1.0</td>\n",
       "      <td>1.0</td>\n",
       "      <td>...</td>\n",
       "      <td>WOOD</td>\n",
       "      <td>Yes</td>\n",
       "      <td>Yes</td>\n",
       "      <td>Yes</td>\n",
       "      <td>No</td>\n",
       "      <td>No</td>\n",
       "      <td>Yes</td>\n",
       "      <td>No</td>\n",
       "      <td>No</td>\n",
       "      <td>No</td>\n",
       "    </tr>\n",
       "    <tr>\n",
       "      <th>25416</th>\n",
       "      <td>111222</td>\n",
       "      <td>1112</td>\n",
       "      <td>Blantyre City</td>\n",
       "      <td>1.204571</td>\n",
       "      <td>0.0</td>\n",
       "      <td>0.0</td>\n",
       "      <td>1.0</td>\n",
       "      <td>0.0</td>\n",
       "      <td>1.0</td>\n",
       "      <td>1.0</td>\n",
       "      <td>...</td>\n",
       "      <td>CHARCOAL</td>\n",
       "      <td>Yes</td>\n",
       "      <td>Yes</td>\n",
       "      <td>Yes</td>\n",
       "      <td>Yes</td>\n",
       "      <td>No</td>\n",
       "      <td>No</td>\n",
       "      <td>Yes</td>\n",
       "      <td>No</td>\n",
       "      <td>No</td>\n",
       "    </tr>\n",
       "    <tr>\n",
       "      <th>25417</th>\n",
       "      <td>111223</td>\n",
       "      <td>1112</td>\n",
       "      <td>Blantyre City</td>\n",
       "      <td>1.204571</td>\n",
       "      <td>0.0</td>\n",
       "      <td>0.0</td>\n",
       "      <td>0.0</td>\n",
       "      <td>0.0</td>\n",
       "      <td>1.0</td>\n",
       "      <td>1.0</td>\n",
       "      <td>...</td>\n",
       "      <td>WOOD</td>\n",
       "      <td>No</td>\n",
       "      <td>No</td>\n",
       "      <td>No</td>\n",
       "      <td>No</td>\n",
       "      <td>No</td>\n",
       "      <td>No</td>\n",
       "      <td>No</td>\n",
       "      <td>No</td>\n",
       "      <td>No</td>\n",
       "    </tr>\n",
       "    <tr>\n",
       "      <th>25418</th>\n",
       "      <td>111224</td>\n",
       "      <td>1112</td>\n",
       "      <td>Blantyre City</td>\n",
       "      <td>1.204571</td>\n",
       "      <td>0.0</td>\n",
       "      <td>0.0</td>\n",
       "      <td>0.0</td>\n",
       "      <td>1.0</td>\n",
       "      <td>1.0</td>\n",
       "      <td>1.0</td>\n",
       "      <td>...</td>\n",
       "      <td>WOOD</td>\n",
       "      <td>No</td>\n",
       "      <td>No</td>\n",
       "      <td>No</td>\n",
       "      <td>No</td>\n",
       "      <td>No</td>\n",
       "      <td>No</td>\n",
       "      <td>No</td>\n",
       "      <td>No</td>\n",
       "      <td>No</td>\n",
       "    </tr>\n",
       "  </tbody>\n",
       "</table>\n",
       "<p>25419 rows × 55 columns</p>\n",
       "</div>"
      ],
      "text/plain": [
       "        hh_id   psu         strata    weight  d_cm  d_nutr  d_satt  d_educ  \\\n",
       "0         101     1  Chitipa Rural  0.432607   0.0     NaN     0.0     0.0   \n",
       "1         102     1  Chitipa Rural  0.432607   0.0     1.0     0.0     1.0   \n",
       "2         103     1  Chitipa Rural  0.432607   0.0     1.0     0.0     0.0   \n",
       "3         104     1  Chitipa Rural  0.432607   0.0     0.0     0.0     0.0   \n",
       "4         106     1  Chitipa Rural  0.432607   0.0     0.0     0.0     1.0   \n",
       "...       ...   ...            ...       ...   ...     ...     ...     ...   \n",
       "25414  111220  1112  Blantyre City  1.204571   0.0     0.0     0.0     1.0   \n",
       "25415  111221  1112  Blantyre City  1.204571   0.0     1.0     0.0     0.0   \n",
       "25416  111222  1112  Blantyre City  1.204571   0.0     0.0     1.0     0.0   \n",
       "25417  111223  1112  Blantyre City  1.204571   0.0     0.0     0.0     0.0   \n",
       "25418  111224  1112  Blantyre City  1.204571   0.0     0.0     0.0     1.0   \n",
       "\n",
       "       d_elct  d_sani  ...  cookingfuel  television  radio  telephone  \\\n",
       "0         1.0     0.0  ...         WOOD          No     No         No   \n",
       "1         1.0     1.0  ...         WOOD          No     No        Yes   \n",
       "2         1.0     1.0  ...         WOOD          No     No        Yes   \n",
       "3         1.0     0.0  ...         WOOD          No    Yes        Yes   \n",
       "4         1.0     1.0  ...         WOOD          No     No         No   \n",
       "...       ...     ...  ...          ...         ...    ...        ...   \n",
       "25414     1.0     1.0  ...         WOOD          No    Yes         No   \n",
       "25415     1.0     1.0  ...         WOOD         Yes    Yes        Yes   \n",
       "25416     1.0     1.0  ...     CHARCOAL         Yes    Yes        Yes   \n",
       "25417     1.0     1.0  ...         WOOD          No     No         No   \n",
       "25418     1.0     1.0  ...         WOOD          No     No         No   \n",
       "\n",
       "       refrigerator  car  bicycle  motorbike  animal_cart  computer  \n",
       "0                No   No       No         No           No        No  \n",
       "1                No   No      Yes         No           No        No  \n",
       "2                No   No       No         No           No        No  \n",
       "3                No   No      Yes         No           No        No  \n",
       "4                No   No       No         No           No        No  \n",
       "...             ...  ...      ...        ...          ...       ...  \n",
       "25414            No   No       No         No           No        No  \n",
       "25415            No   No      Yes         No           No        No  \n",
       "25416           Yes   No       No        Yes           No        No  \n",
       "25417            No   No       No         No           No        No  \n",
       "25418            No   No       No         No           No        No  \n",
       "\n",
       "[25419 rows x 55 columns]"
      ]
     },
     "execution_count": 4,
     "metadata": {},
     "output_type": "execute_result"
    }
   ],
   "source": [
    "data"
   ]
  },
  {
   "cell_type": "code",
   "execution_count": null,
   "id": "2e1a2cb2",
   "metadata": {},
   "outputs": [],
   "source": [
    "PSU = data.groupby('psu').agg({'weight' : 'max' ,'strata' : 'max', 'region' : 'max'}).reset_index()"
   ]
  },
  {
   "cell_type": "code",
   "execution_count": 6,
   "id": "b54f397a",
   "metadata": {},
   "outputs": [],
   "source": [
    "# Convert variables to correct data type:\n",
    "for col in data.columns:\n",
    "    data[col] = data[col].astype('category')"
   ]
  },
  {
   "cell_type": "code",
   "execution_count": 7,
   "id": "c3a3d50e",
   "metadata": {},
   "outputs": [],
   "source": [
    "cols_to_float = ['weight','eduyears']\n",
    "for col in cols_to_float:\n",
    "    data[col] = data[col].astype('Float32')\n",
    "    \n",
    "cols_to_int = ['sex_Female','sex_Male',\n",
    "                'agec7_0-4','agec7_5-9', 'agec7_10-14',\n",
    "                'agec7_15-17', 'agec7_18-59', 'agec7_60+',\n",
    "                'hhsize','child_eligible','child_mortality']\n",
    "for col in cols_to_int:\n",
    "    data[col] = data[col].astype('Int32')"
   ]
  },
  {
   "cell_type": "code",
   "execution_count": 8,
   "id": "92e7abb4",
   "metadata": {},
   "outputs": [],
   "source": [
    "trn_df = data.drop(columns=['strata','no_missing_edu',\n",
    "    'attendance_not currently attending', 'attendance_currently attending',\n",
    "    'no_missing_atten', 'timetowater', 'underweight_0.0', 'underweight_1.0',\n",
    "    'stunting_0.0', 'stunting_1.0', 'wasting_0.0', 'wasting_1.0'], axis=1)"
   ]
  },
  {
   "cell_type": "markdown",
   "id": "f7ddb308",
   "metadata": {},
   "source": [
    "# Experiments"
   ]
  },
  {
   "cell_type": "markdown",
   "id": "f9095a01",
   "metadata": {},
   "source": [
    "Electricity indicator has a $\\phi_K$ values greater than 0.6 with Housing indicator. Years of education has more relationship with Electricity, Assets and Housing, according to $\\phi_K$ value. We will use these variables for imputation values experiments"
   ]
  },
  {
   "cell_type": "code",
   "execution_count": 9,
   "id": "8b361519",
   "metadata": {},
   "outputs": [
    {
     "data": {
      "text/html": [
       "<div>\n",
       "<style scoped>\n",
       "    .dataframe tbody tr th:only-of-type {\n",
       "        vertical-align: middle;\n",
       "    }\n",
       "\n",
       "    .dataframe tbody tr th {\n",
       "        vertical-align: top;\n",
       "    }\n",
       "\n",
       "    .dataframe thead th {\n",
       "        text-align: right;\n",
       "    }\n",
       "</style>\n",
       "<table border=\"1\" class=\"dataframe\">\n",
       "  <thead>\n",
       "    <tr style=\"text-align: right;\">\n",
       "      <th>d_hsg</th>\n",
       "      <th>0</th>\n",
       "      <th>1</th>\n",
       "    </tr>\n",
       "    <tr>\n",
       "      <th>d_elct</th>\n",
       "      <th></th>\n",
       "      <th></th>\n",
       "    </tr>\n",
       "  </thead>\n",
       "  <tbody>\n",
       "    <tr>\n",
       "      <th>0.0</th>\n",
       "      <td>3543</td>\n",
       "      <td>1551</td>\n",
       "    </tr>\n",
       "    <tr>\n",
       "      <th>1.0</th>\n",
       "      <td>3554</td>\n",
       "      <td>16736</td>\n",
       "    </tr>\n",
       "  </tbody>\n",
       "</table>\n",
       "</div>"
      ],
      "text/plain": [
       "d_hsg      0      1\n",
       "d_elct             \n",
       "0.0     3543   1551\n",
       "1.0     3554  16736"
      ]
     },
     "execution_count": 9,
     "metadata": {},
     "output_type": "execute_result"
    }
   ],
   "source": [
    "pd.crosstab(data['d_elct'], data['d_hsg'])"
   ]
  },
  {
   "cell_type": "code",
   "execution_count": 10,
   "id": "bcbd0105",
   "metadata": {},
   "outputs": [
    {
     "name": "stdout",
     "output_type": "stream",
     "text": [
      "=== d_educ vs  d_elct ===\n",
      "d_elct   0.0    1.0\n",
      "d_educ             \n",
      "0.0     4554  13623\n",
      "1.0      534   6630\n",
      "=== d_educ vs  d_hsg ===\n",
      "d_hsg      0      1\n",
      "d_educ             \n",
      "0.0     6420  11779\n",
      "1.0      678   6498\n",
      "=== d_educ vs  d_asst ===\n",
      "d_asst     0     1\n",
      "d_educ            \n",
      "0.0     8974  9225\n",
      "1.0     1528  5648\n"
     ]
    }
   ],
   "source": [
    "for i in ['d_elct', 'd_hsg', 'd_asst']:\n",
    "    print(\"=== d_educ vs \", i, \"===\"  )\n",
    "    print(pd.crosstab(data['d_educ'], data[i]))"
   ]
  },
  {
   "cell_type": "markdown",
   "id": "76034e98",
   "metadata": {},
   "source": [
    "#### Select experiment"
   ]
  },
  {
   "cell_type": "code",
   "execution_count": 11,
   "id": "5786a028",
   "metadata": {},
   "outputs": [],
   "source": [
    "import Experiments"
   ]
  },
  {
   "cell_type": "code",
   "execution_count": 12,
   "id": "f07c2826",
   "metadata": {},
   "outputs": [],
   "source": [
    "Experiment = input(\"Enter the experiment number: \")\n",
    "Percentage_of_NA = input(\"Enter the percentage of NA values: \")"
   ]
  },
  {
   "cell_type": "code",
   "execution_count": 13,
   "id": "a245b4e2",
   "metadata": {},
   "outputs": [],
   "source": [
    "trn_df = Experiments.select_experiment(data=trn_df, experiment=int(Experiment), percentage=int(Percentage_of_NA))"
   ]
  },
  {
   "cell_type": "code",
   "execution_count": 14,
   "id": "e966dc4e",
   "metadata": {},
   "outputs": [],
   "source": [
    "# Add the deprivations score as control for better MPI prediction\n",
    "indicators = ['d_cm','d_nutr', 'd_satt','d_educ', 'd_elct', 'd_wtr', 'd_sani', 'd_hsg', 'd_ckfl', 'd_asst']\n",
    "weights  = np.array([1/6, 1/6, 1/6, 1/6, 1/18, 1/18, 1/18, 1/18, 1/18, 1/18])"
   ]
  },
  {
   "cell_type": "code",
   "execution_count": 15,
   "id": "86f998ca",
   "metadata": {},
   "outputs": [],
   "source": [
    "trn_df['score'] = round((trn_df.loc[:,indicators].astype(float) * weights).sum(axis=1, skipna=False),3) "
   ]
  },
  {
   "cell_type": "code",
   "execution_count": null,
   "id": "b294f7e8",
   "metadata": {},
   "outputs": [],
   "source": [
    "from mostlyai import engine\n",
    "from pathlib import Path"
   ]
  },
  {
   "cell_type": "code",
   "execution_count": null,
   "id": "98940ed3",
   "metadata": {},
   "outputs": [],
   "source": [
    "ws = Path(\"temp-ws_EXP\"+Experiment+\"_\"+Percentage_of_NA)\n",
    "engine.init_logging()"
   ]
  },
  {
   "cell_type": "code",
   "execution_count": null,
   "id": "3c181a4c",
   "metadata": {},
   "outputs": [],
   "source": [
    "# Split data\n",
    "engine.split(                         # split data as PQT files for trn + val to {ws}/OriginalData/tgt-data\n",
    "    workspace_dir=ws,   \n",
    "    tgt_data=trn_df,\n",
    "    ctx_data=PSU,\n",
    "    tgt_primary_key='hh_id',\n",
    "    ctx_primary_key='psu',\n",
    "    tgt_context_key='psu',\n",
    "    model_type=\"TABULAR\"\n",
    "    )"
   ]
  },
  {
   "cell_type": "code",
   "execution_count": null,
   "id": "071c5700",
   "metadata": {},
   "outputs": [],
   "source": [
    "engine.analyze(workspace_dir=ws,\n",
    "            value_protection = False)    # Avoid value protetion"
   ]
  },
  {
   "cell_type": "code",
   "execution_count": null,
   "id": "6a549888",
   "metadata": {},
   "outputs": [],
   "source": [
    "engine.encode(workspace_dir=ws) "
   ]
  },
  {
   "cell_type": "code",
   "execution_count": null,
   "id": "85c5ed3e",
   "metadata": {},
   "outputs": [],
   "source": [
    "    \n",
    "engine.train(                         # train model and store to {ws}/ModelStore/model-data\n",
    "    workspace_dir=ws,\n",
    "    model = \"MOSTLY_AI/Large\",\n",
    "    max_training_time=10,              # limit TRAIN to 1 minute for demo purposes\n",
    "    device = 'cuda'  # Use GPU if available, \n",
    "    )"
   ]
  },
  {
   "cell_type": "code",
   "execution_count": null,
   "id": "22e7e6bf",
   "metadata": {},
   "outputs": [],
   "source": [
    "engine.generate(workspace_dir=ws, imputation={'columns' : [\"d_hsg\"]}) "
   ]
  },
  {
   "cell_type": "code",
   "execution_count": null,
   "id": "c3f4cff8",
   "metadata": {},
   "outputs": [],
   "source": [
    "gen_df = pd.read_parquet(ws / \"SyntheticData\")"
   ]
  },
  {
   "cell_type": "code",
   "execution_count": null,
   "id": "4e18f2d9",
   "metadata": {},
   "outputs": [],
   "source": [
    "PSU['psu'] = PSU['psu'].astype('category')"
   ]
  },
  {
   "cell_type": "code",
   "execution_count": null,
   "id": "c79e04c7",
   "metadata": {},
   "outputs": [],
   "source": [
    "# Generate synthetic context data\n",
    "ws_ctx = Path(\"temp-ws_ctx\")\n",
    "engine.init_logging()\n",
    "# Split data\n",
    "engine.split(                         # split data as PQT files for trn + val to {ws}/OriginalData/tgt-data\n",
    "    workspace_dir=ws_ctx,   \n",
    "    tgt_data=PSU,\n",
    "    model_type=\"TABULAR\"\n",
    "    )"
   ]
  },
  {
   "cell_type": "code",
   "execution_count": null,
   "id": "2d57508f",
   "metadata": {},
   "outputs": [],
   "source": [
    "engine.analyze(workspace_dir=ws_ctx, value_protection=False)   \n",
    "engine.encode(workspace_dir=ws_ctx)  "
   ]
  },
  {
   "cell_type": "code",
   "execution_count": null,
   "id": "dbd361d9",
   "metadata": {},
   "outputs": [],
   "source": [
    "engine.train(                         \n",
    "    workspace_dir=ws_ctx,\n",
    "    model = \"MOSTLY_AI/Medium\",  # Use a smaller model for context data\n",
    ")"
   ]
  },
  {
   "cell_type": "code",
   "execution_count": null,
   "id": "21f6592f",
   "metadata": {},
   "outputs": [],
   "source": [
    "engine.generate(workspace_dir=ws_ctx)"
   ]
  },
  {
   "cell_type": "code",
   "execution_count": null,
   "id": "c886f238",
   "metadata": {},
   "outputs": [],
   "source": [
    "synthetic_context_data = pd.read_parquet(ws_ctx / \"SyntheticData\")"
   ]
  },
  {
   "cell_type": "code",
   "execution_count": null,
   "id": "5a830397",
   "metadata": {},
   "outputs": [],
   "source": [
    "gen_df.to_csv('./syn_'+country+\"_EXP\"+Experiment+\"_\"+Percentage_of_NA)"
   ]
  },
  {
   "cell_type": "code",
   "execution_count": null,
   "id": "0987193e",
   "metadata": {},
   "outputs": [],
   "source": [
    "pd.crosstab(gen_df['d_asst'], gen_df['d_hsg'], normalize=True)"
   ]
  },
  {
   "cell_type": "code",
   "execution_count": null,
   "id": "b68c99a5",
   "metadata": {},
   "outputs": [],
   "source": [
    "pd.crosstab(data['d_asst'], data['d_hsg'],  normalize=True)"
   ]
  },
  {
   "cell_type": "code",
   "execution_count": null,
   "id": "23d354c5",
   "metadata": {},
   "outputs": [],
   "source": [
    "from mostlyai import qa"
   ]
  },
  {
   "cell_type": "code",
   "execution_count": null,
   "id": "352e1941",
   "metadata": {},
   "outputs": [],
   "source": [
    "# analyze sequential data with context\n",
    "report_path, metrics = qa.report(\n",
    "    syn_tgt_data = gen_df,\n",
    "    trn_tgt_data = trn_df\n",
    ")"
   ]
  },
  {
   "cell_type": "code",
   "execution_count": null,
   "id": "d650ea7e",
   "metadata": {},
   "outputs": [],
   "source": [
    "# pretty print metrics\n",
    "print(metrics.model_dump_json(indent=4))"
   ]
  },
  {
   "cell_type": "code",
   "execution_count": null,
   "id": "714e7d6c",
   "metadata": {},
   "outputs": [],
   "source": [
    "gen_df.columns"
   ]
  },
  {
   "cell_type": "code",
   "execution_count": null,
   "id": "fba64f46",
   "metadata": {},
   "outputs": [],
   "source": []
  }
 ],
 "metadata": {
  "kernelspec": {
   "display_name": ".venv (3.11.12)",
   "language": "python",
   "name": "python3"
  },
  "language_info": {
   "codemirror_mode": {
    "name": "ipython",
    "version": 3
   },
   "file_extension": ".py",
   "mimetype": "text/x-python",
   "name": "python",
   "nbconvert_exporter": "python",
   "pygments_lexer": "ipython3",
   "version": "3.11.12"
  }
 },
 "nbformat": 4,
 "nbformat_minor": 5
}
